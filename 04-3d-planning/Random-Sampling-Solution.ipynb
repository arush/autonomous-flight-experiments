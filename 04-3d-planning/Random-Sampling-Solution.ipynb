{
 "cells": [
  {
   "cell_type": "markdown",
   "metadata": {},
   "source": [
    "# Random Sampling\n",
    "\n",
    "In this notebook you'll work with the obstacle's polygon representation itself.\n",
    "\n",
    "Your tasks will be:\n",
    "\n",
    "1. Create polygons.\n",
    "2. Sample random 3D points.\n",
    "3. Remove points contained by an obstacle polygon.\n",
    "\n",
    "Recall, a point $(x, y, z)$ collides with a polygon if the $(x, y)$ coordinates are contained by the polygon and the $z$ coordinate (height) is less than the height of the polygon."
   ]
  },
  {
   "cell_type": "code",
   "execution_count": 29,
   "metadata": {},
   "outputs": [],
   "source": [
    "import time\n",
    "import numpy as np\n",
    "import matplotlib.pyplot as plt\n",
    "from shapely.geometry import Polygon, Point\n",
    "%matplotlib inline\n",
    "\n"
   ]
  },
  {
   "cell_type": "code",
   "execution_count": 30,
   "metadata": {},
   "outputs": [],
   "source": [
    "plt.rcParams['figure.figsize'] = 12, 12"
   ]
  },
  {
   "cell_type": "code",
   "execution_count": 31,
   "metadata": {},
   "outputs": [
    {
     "name": "stdout",
     "output_type": "stream",
     "text": [
      "[[-310.2389   -439.2315     85.5         5.          5.         85.5     ]\n",
      " [-300.2389   -439.2315     85.5         5.          5.         85.5     ]\n",
      " [-290.2389   -439.2315     85.5         5.          5.         85.5     ]\n",
      " ..., \n",
      " [ 257.8061    425.1645      1.75852     1.292725    1.292725    1.944791]\n",
      " [ 293.9967    368.3391      3.557666    1.129456    1.129456    3.667319]\n",
      " [ 281.5162    354.4156      4.999351    1.053772    1.053772    4.950246]]\n"
     ]
    }
   ],
   "source": [
    "# This is the same obstacle data from the previous lesson.\n",
    "filename = 'colliders.csv'\n",
    "data = np.loadtxt(filename, delimiter=',', dtype='Float64', skiprows=2)\n",
    "print(data)"
   ]
  },
  {
   "cell_type": "markdown",
   "metadata": {},
   "source": [
    "## Create Polygons"
   ]
  },
  {
   "cell_type": "code",
   "execution_count": 32,
   "metadata": {},
   "outputs": [
    {
     "name": "stdout",
     "output_type": "stream",
     "text": [
      "(3845, 6)\n",
      "5.0\n"
     ]
    }
   ],
   "source": [
    "print(data.shape)\n",
    "print(np.max(data[:,4]))"
   ]
  },
  {
   "cell_type": "code",
   "execution_count": 33,
   "metadata": {},
   "outputs": [],
   "source": [
    "def extract_polygons(data):\n",
    "\n",
    "    polygons = []\n",
    "    for i in range(data.shape[0]):\n",
    "        north, east, alt, d_north, d_east, d_alt = data[i, :]\n",
    "        \n",
    "        # TODO: Extract the 4 corners of each obstacle\n",
    "        # \n",
    "        # NOTE: The order of the points needs to be counterclockwise\n",
    "        # in order to work with the simple angle test\n",
    "        # Also, `shapely` draws sequentially from point to point.\n",
    "        #\n",
    "        # If the area of the polygon in shapely is 0 \n",
    "        # you've likely got a weird order.\n",
    "        obstacle = [north - d_north, north + d_north, east - d_east, east + d_east]\n",
    "        corners = [(obstacle[0], obstacle[2]), (obstacle[0], obstacle[3]), (obstacle[1], obstacle[3]), (obstacle[1], obstacle[2])]\n",
    "        \n",
    "        # TODO: Compute the height of the polygon\n",
    "        height = alt + d_alt\n",
    "\n",
    "        p = Polygon(corners)\n",
    "        polygons.append((p, height))\n",
    "\n",
    "    return polygons\n"
   ]
  },
  {
   "cell_type": "code",
   "execution_count": 34,
   "metadata": {},
   "outputs": [
    {
     "name": "stdout",
     "output_type": "stream",
     "text": [
      "3845\n"
     ]
    }
   ],
   "source": [
    "polygons = extract_polygons(data)\n",
    "print(len(polygons))"
   ]
  },
  {
   "cell_type": "markdown",
   "metadata": {},
   "source": [
    "# Sampling 3D Points\n",
    "\n",
    "Now that we have the extracted the polygons, we need to sample random 3D points. Currently we don't know suitable ranges for x, y, and z. Let's figure out the max and min values for each dimension."
   ]
  },
  {
   "cell_type": "code",
   "execution_count": 35,
   "metadata": {},
   "outputs": [
    {
     "name": "stdout",
     "output_type": "stream",
     "text": [
      "X\n",
      "min = -315.2389, max = 604.7611\n",
      "\n",
      "Y\n",
      "min = -444.2315, max = 475.7685\n",
      "\n",
      "Z\n",
      "min = 0, max = 10\n"
     ]
    }
   ],
   "source": [
    "xmin = np.min(data[:, 0] - data[:, 3])\n",
    "xmax = np.max(data[:, 0] + data[:, 3])\n",
    "\n",
    "ymin = np.min(data[:, 1] - data[:, 4])\n",
    "ymax = np.max(data[:, 1] + data[:, 4])\n",
    "\n",
    "zmin = 0\n",
    "zmax = 10\n",
    "print(\"X\")\n",
    "print(\"min = {0}, max = {1}\\n\".format(xmin, xmax))\n",
    "\n",
    "print(\"Y\")\n",
    "print(\"min = {0}, max = {1}\\n\".format(ymin, ymax))\n",
    "\n",
    "print(\"Z\")\n",
    "print(\"min = {0}, max = {1}\".format(zmin, zmax))"
   ]
  },
  {
   "cell_type": "markdown",
   "metadata": {},
   "source": [
    "Next, it's time to sample points. All that's left is picking the distribution and number of samples. The uniform distribution makes sense in this situation since we we'd like to encourage searching the whole space."
   ]
  },
  {
   "cell_type": "code",
   "execution_count": 36,
   "metadata": {},
   "outputs": [],
   "source": [
    "num_samples = 100\n",
    "\n",
    "xvals = np.random.uniform(xmin, xmax, num_samples)\n",
    "yvals = np.random.uniform(ymin, ymax, num_samples)\n",
    "zvals = np.random.uniform(zmin, zmax, num_samples)\n",
    "\n",
    "samples = np.array(list(zip(xvals, yvals, zvals)))"
   ]
  },
  {
   "cell_type": "code",
   "execution_count": 37,
   "metadata": {},
   "outputs": [
    {
     "data": {
      "text/plain": [
       "array([[ -2.69042836e+02,   3.57076752e+02,   3.30942340e+00],\n",
       "       [  2.27561077e+02,  -3.61973142e+02,   9.65514112e+00],\n",
       "       [  2.89800036e+02,   1.87621271e+02,   5.06209656e-01],\n",
       "       [ -2.90084014e+02,  -1.00404730e+02,   6.95977275e+00],\n",
       "       [  2.35890439e+02,   4.32270775e+02,   7.94167997e+00],\n",
       "       [  4.35738461e+02,   1.40801805e+02,   9.76954348e+00],\n",
       "       [  4.97807009e+02,   3.68562744e+02,   3.41373458e+00],\n",
       "       [  5.19337228e+02,  -3.89124231e+02,   2.14182042e-01],\n",
       "       [  4.46085958e+02,  -2.26446328e+02,   6.08535715e+00],\n",
       "       [ -1.18394823e+02,  -2.20851957e+02,   5.55563506e+00]])"
      ]
     },
     "execution_count": 37,
     "metadata": {},
     "output_type": "execute_result"
    }
   ],
   "source": [
    "samples[:10]"
   ]
  },
  {
   "cell_type": "markdown",
   "metadata": {},
   "source": [
    "## Removing Points Colliding With Obstacles\n",
    "\n",
    "Prior to remove a point we must determine whether it collides with any obstacle. Complete the `collides` function below. It should return `True` if the point collides with *any* obstacle and `False` if no collision is detected."
   ]
  },
  {
   "cell_type": "code",
   "execution_count": 38,
   "metadata": {},
   "outputs": [],
   "source": [
    "def collides(polygons, point):   \n",
    "    # TODO: Determine whether the point collides\n",
    "    # with any obstacles.    \n",
    "    for (p, height) in polygons:\n",
    "        if p.contains(Point(point)) and height >= point[2]:\n",
    "            return True\n",
    "    return False"
   ]
  },
  {
   "cell_type": "markdown",
   "metadata": {},
   "source": [
    "Use `collides` for all points in the sample."
   ]
  },
  {
   "cell_type": "code",
   "execution_count": 39,
   "metadata": {},
   "outputs": [
    {
     "name": "stdout",
     "output_type": "stream",
     "text": [
      "Time taken 6.814447641372681 seconds ...\n"
     ]
    }
   ],
   "source": [
    "t0 = time.time()\n",
    "to_keep = []\n",
    "for point in samples:\n",
    "    if not collides(polygons, point):\n",
    "        to_keep.append(point)\n",
    "time_taken = time.time() - t0\n",
    "print(\"Time taken {0} seconds ...\".format(time_taken))"
   ]
  },
  {
   "cell_type": "code",
   "execution_count": 40,
   "metadata": {},
   "outputs": [
    {
     "name": "stdout",
     "output_type": "stream",
     "text": [
      "61\n"
     ]
    }
   ],
   "source": [
    "print(len(to_keep))"
   ]
  },
  {
   "cell_type": "markdown",
   "metadata": {},
   "source": [
    "## Points Visualization"
   ]
  },
  {
   "cell_type": "code",
   "execution_count": 41,
   "metadata": {},
   "outputs": [],
   "source": [
    "from grid import create_grid\n",
    "grid = create_grid(data, zmax, 1)"
   ]
  },
  {
   "cell_type": "code",
   "execution_count": 42,
   "metadata": {},
   "outputs": [
    {
     "data": {
      "image/png": "[encoded data removed]",
      "text/plain": [
       "<matplotlib.figure.Figure at 0x7f137933f940>"
      ]
     },
     "metadata": {
      "needs_background": "light"
     },
     "output_type": "display_data"
    }
   ],
   "source": [
    "fig = plt.figure()\n",
    "\n",
    "plt.imshow(grid, cmap='Spectral', origin='lower')\n",
    "\n",
    "nmin = np.min(data[:, 0])\n",
    "emin = np.min(data[:, 1])\n",
    "\n",
    "# draw points\n",
    "all_pts = np.array(to_keep)\n",
    "north_vals = all_pts[:,0]\n",
    "east_vals = all_pts[:,1]\n",
    "plt.scatter(east_vals - emin, north_vals - nmin, c='red')\n",
    "\n",
    "plt.ylabel('NORTH')\n",
    "plt.xlabel('EAST')\n",
    "\n",
    "plt.show()"
   ]
  },
  {
   "cell_type": "markdown",
   "metadata": {},
   "source": [
    "## Epilogue\n",
    "\n",
    "You may have noticed removing points can be quite lengthy. We're naively checking to see if the point collides with each polygon when in reality it can only collide with one. The question when becomes \n",
    "\n",
    "\"How do we reduce the number of polygons we are checking for collision with each point?\"\n",
    "\n",
    "One such approach is to use a *[k-d tree](https://en.wikipedia.org/wiki/K-d_tree)*, a space-partitioning data structure which allows search queries in $O(log(n))$. The *k-d tree* achieves this by cutting the search space in half on each step of a query.\n",
    "\n",
    "This would bring the total algorithm time down to $O(m * log(n))$ from $O(m*n)$.\n",
    "\n",
    "The scikit-learn library has an efficient implementation [readily available](http://scikit-learn.org/stable/modules/generated/sklearn.neighbors.KDTree.html#sklearn.neighbors.KDTree)."
   ]
  },
  {
   "cell_type": "code",
   "execution_count": null,
   "metadata": {},
   "outputs": [],
   "source": []
  },
  {
   "cell_type": "code",
   "execution_count": null,
   "metadata": {},
   "outputs": [],
   "source": []
  }
 ],
 "metadata": {
  "kernelspec": {
   "display_name": "Python 3",
   "language": "python",
   "name": "python3"
  },
  "language_info": {
   "codemirror_mode": {
    "name": "ipython",
    "version": 3
   },
   "file_extension": ".py",
   "mimetype": "text/x-python",
   "name": "python",
   "nbconvert_exporter": "python",
   "pygments_lexer": "ipython3",
   "version": "3.6.3"
  }
 },
 "nbformat": 4,
 "nbformat_minor": 2
}
